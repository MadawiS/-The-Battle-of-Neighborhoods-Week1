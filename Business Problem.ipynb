{
 "cells": [
  {
   "cell_type": "markdown",
   "metadata": {},
   "source": [
    "# Business Problem\n",
    "\n",
    "A Food Company from Newyork wants to expand their restaurant business to San Francisco, California. They want to find the best place to start their business, which is suitable for the Indian restaurant. But San Francisco has so many Indian restaurants, so this company wants Data Scientist to find the Best location for their business which is near to famous attraction/location and which will be profitable to the company.\n",
    "8 Factors for Choosing a New Restaurant Location according to experts:\n",
    "1. Visibility\n",
    "2. Parking\n",
    "3. Space Size\n",
    "4. Crime Rates\n",
    "5. Surrounding Businesses and Competitor Analysis\n",
    "6. Accessibility\n",
    "7. Affordability\n",
    "8. Safety"
   ]
  },
  {
   "cell_type": "code",
   "execution_count": null,
   "metadata": {},
   "outputs": [],
   "source": []
  }
 ],
 "metadata": {
  "kernelspec": {
   "display_name": "Python 3",
   "language": "python",
   "name": "python3"
  },
  "language_info": {
   "codemirror_mode": {
    "name": "ipython",
    "version": 3
   },
   "file_extension": ".py",
   "mimetype": "text/x-python",
   "name": "python",
   "nbconvert_exporter": "python",
   "pygments_lexer": "ipython3",
   "version": "3.8.3"
  }
 },
 "nbformat": 4,
 "nbformat_minor": 4
}
